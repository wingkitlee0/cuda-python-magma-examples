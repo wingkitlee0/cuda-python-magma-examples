{
 "cells": [
  {
   "cell_type": "code",
   "execution_count": 1,
   "metadata": {},
   "outputs": [
    {
     "name": "stdout",
     "output_type": "stream",
     "text": [
      "[[ True  True  True]\n",
      " [ True  True  True]\n",
      " [ True  True  True]]\n",
      "type:  d\n",
      "Time for eig:  0.4316260814666748\n",
      "CPU:\n",
      "[-0.20270676+0.j  0.39352627+0.j  1.7388151 +0.j]\n",
      "[[ 7.11879116e-01 -6.09823355e-04  4.24906815e-01]\n",
      " [-6.45612838e-01 -5.75579571e-01  5.51999548e-01]\n",
      " [ 2.76427547e-01  8.17745551e-01  7.17461286e-01]]\n",
      "GPU:\n",
      "[-0.20270676+0.j  0.39352627+0.j  1.7388151 +0.j]\n",
      "[[ 7.11879116e-01 -6.09823355e-04  4.24906815e-01]\n",
      " [-6.45612838e-01 -5.75579571e-01  5.51999548e-01]\n",
      " [ 2.76427547e-01  8.17745551e-01  7.17461286e-01]]\n",
      "---------\n",
      "V_gpu - V_cpu = \n",
      "[[0. 0. 0.]\n",
      " [0. 0. 0.]\n",
      " [0. 0. 0.]]\n"
     ]
    }
   ],
   "source": [
    "import numpy as np\n",
    "import scipy.linalg as LA\n",
    "from gpu import eig\n",
    "\n",
    "\n",
    "N = 3\n",
    "#M_gpu = np.random.random((N,N))+1j*np.random.random((N,N))\n",
    "\n",
    "np.random.seed(1234)\n",
    "\n",
    "M_gpu = np.random.random((N, N))\n",
    "\n",
    "\n",
    "np.random.seed(1234)\n",
    "M_cpu = np.random.random((N, N))\n",
    "\n",
    "print(M_cpu == M_gpu)\n",
    "\n",
    "W_gpu, V_gpu = eig(M_gpu, left=False, right=True)\n",
    "W_cpu, V_cpu = LA.eig(M_cpu, left=False, right=True)\n",
    "\n",
    "ind_gpu = np.argsort(W_gpu)\n",
    "ind_cpu = np.argsort(W_cpu)\n",
    "\n",
    "W_gpu = W_gpu[ind_gpu]\n",
    "V_gpu = V_gpu[:, ind_gpu]\n",
    "\n",
    "W_cpu = W_cpu[ind_cpu]\n",
    "V_cpu = V_cpu[:, ind_cpu]\n",
    "\n",
    "print(\"CPU:\")\n",
    "print(W_cpu)\n",
    "print(V_cpu)\n",
    "print(\"GPU:\")\n",
    "print(W_gpu)\n",
    "print(V_gpu)\n",
    "print(\"---------\")\n",
    "print(\"V_gpu - V_cpu = \")\n",
    "print(V_gpu - V_cpu)"
   ]
  },
  {
   "cell_type": "code",
   "execution_count": 8,
   "metadata": {},
   "outputs": [
    {
     "name": "stdout",
     "output_type": "stream",
     "text": [
      "1.0000000000000002\n",
      "0.9999999999999998\n",
      "1.0000000000000002\n"
     ]
    }
   ],
   "source": [
    "for i in range(3):\n",
    "    print(np.sum(V_gpu[:,i]**2))"
   ]
  },
  {
   "cell_type": "code",
   "execution_count": 10,
   "metadata": {},
   "outputs": [
    {
     "ename": "ModuleNotFoundError",
     "evalue": "No module named 'pysdw'",
     "output_type": "error",
     "traceback": [
      "\u001b[0;31m---------------------------------------------------------------------------\u001b[0m",
      "\u001b[0;31mModuleNotFoundError\u001b[0m                       Traceback (most recent call last)",
      "\u001b[0;32m<ipython-input-10-66a7bbd29c2b>\u001b[0m in \u001b[0;36m<module>\u001b[0;34m\u001b[0m\n\u001b[0;32m----> 1\u001b[0;31m \u001b[0;32mimport\u001b[0m \u001b[0mpysdw\u001b[0m\u001b[0;34m\u001b[0m\u001b[0m\n\u001b[0m",
      "\u001b[0;31mModuleNotFoundError\u001b[0m: No module named 'pysdw'"
     ]
    }
   ],
   "source": []
  },
  {
   "cell_type": "code",
   "execution_count": 3,
   "metadata": {},
   "outputs": [],
   "source": [
    "?LA.eig"
   ]
  },
  {
   "cell_type": "code",
   "execution_count": null,
   "metadata": {},
   "outputs": [],
   "source": []
  }
 ],
 "metadata": {
  "kernelspec": {
   "display_name": "Python 3 (base)",
   "language": "python",
   "name": "python3"
  },
  "language_info": {
   "codemirror_mode": {
    "name": "ipython",
    "version": 3
   },
   "file_extension": ".py",
   "mimetype": "text/x-python",
   "name": "python",
   "nbconvert_exporter": "python",
   "pygments_lexer": "ipython3",
   "version": "3.6.6"
  }
 },
 "nbformat": 4,
 "nbformat_minor": 2
}
