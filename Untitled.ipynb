{
 "cells": [
  {
   "cell_type": "code",
   "execution_count": 31,
   "metadata": {},
   "outputs": [
    {
     "name": "stdout",
     "output_type": "stream",
     "text": [
      "    'type'      'GPU'      'CPU'   'Equal?'\n",
      "       'z'        5.4,       8.78,       True\n",
      "       'c'       2.08,       4.52,       True\n",
      "[-12.811134-1.6818233j  -12.811134+1.6818233j  -12.617958-1.2644008j\n",
      " -12.617958+1.2644008j  -12.414246-0.46924937j -12.414246+0.46924937j\n",
      " -12.404205-2.9360309j  -12.404205+2.9360309j  -12.377935-2.371158j\n",
      " -12.377935+2.371158j  ]\n",
      "[-12.811214-1.6818317j  -12.811214+1.6818317j  -12.617971-1.2643853j\n",
      " -12.617971+1.2643853j  -12.41437 -0.46925253j -12.41437 +0.46925253j\n",
      " -12.40419 -2.9360268j  -12.40419 +2.9360268j  -12.377928-2.3711398j\n",
      " -12.377928+2.3711398j ]\n",
      "       's'      0.992,       1.22,      False\n",
      "       'd'       2.17,       2.79,       True\n"
     ]
    }
   ],
   "source": [
    "\"\"\"\n",
    "Demo of how to call low-level MAGMA wrappers to solve non-symmetric eigenvalue problem.\n",
    "\n",
    "Note MAGMA's GEEV implementation is a hybrid of CPU/GPU code; the inputs\n",
    "therefore must be in host memory.\n",
    "\"\"\"\n",
    "\n",
    "import numpy as np\n",
    "import scipy.linalg\n",
    "import skcuda.magma as magma\n",
    "import time\n",
    "import importlib\n",
    "importlib.reload(magma)\n",
    "typedict = {'s': np.float32, 'd': np.float64, 'c': np.complex64, 'z': np.complex128}\n",
    "\n",
    "def test_cpu_gpu(N, t='z'):\n",
    "    \"\"\"\n",
    "        N     : dimension\n",
    "        dtype : type (default complex)\n",
    "    \"\"\"\n",
    "    assert t in typedict.keys()\n",
    "    \n",
    "    dtype = typedict[t]\n",
    "    \n",
    "    \n",
    "    if t in ['s', 'd']:\n",
    "        M_gpu = np.random.random((N,N))\n",
    "    elif t in ['c', 'z']:\n",
    "        M_gpu = np.random.random((N,N))+1j*np.random.random((N,N))\n",
    "\n",
    "    M_gpu = M_gpu.astype(dtype)\n",
    "    M_cpu = M_gpu.copy()\n",
    "    \n",
    "    # GPU (skcuda + Magma)\n",
    "    # Set up output buffers:\n",
    "    if t in ['s', 'd']:\n",
    "        wr = np.zeros((N,), dtype) # eigenvalues\n",
    "        wi = np.zeros((N,), dtype) # eigenvalues\n",
    "    elif t in ['c', 'z']:\n",
    "        w = np.zeros((N,), dtype) # eigenvalues\n",
    "        \n",
    "    vl = np.zeros((N, N), dtype)\n",
    "    vr = np.zeros((N, N), dtype)\n",
    "\n",
    "    # Set up workspace:\n",
    "    if t == 's':\n",
    "        nb = magma.magma_get_sgeqrf_nb(N,N)\n",
    "    if t == 'd':\n",
    "        nb = magma.magma_get_dgeqrf_nb(N,N)\n",
    "    if t == 'c':\n",
    "        nb = magma.magma_get_cgeqrf_nb(N,N)\n",
    "    if t == 'z':\n",
    "        nb = magma.magma_get_zgeqrf_nb(N,N)\n",
    "    \n",
    "    lwork = N*(1 + 2*nb)\n",
    "    work = np.zeros((lwork,), dtype)\n",
    "    if t in ['c', 'z']:\n",
    "        rwork= np.zeros((2*N,), dtype)\n",
    "\n",
    "    # Compute:\n",
    "    gpu_time = time.time();\n",
    "    if t == 's':\n",
    "        status = magma.magma_sgeev('N', 'V', N, M_gpu.ctypes.data, N, \n",
    "                                   wr.ctypes.data, wi.ctypes.data, \n",
    "                                   vl.ctypes.data, N, vr.ctypes.data, N, \n",
    "                                   work.ctypes.data, lwork)\n",
    "    if t == 'd':\n",
    "        status = magma.magma_dgeev('N', 'V', N, M_gpu.ctypes.data, N, \n",
    "                                   wr.ctypes.data, wi.ctypes.data, \n",
    "                                   vl.ctypes.data, N, vr.ctypes.data, N, \n",
    "                                   work.ctypes.data, lwork)\n",
    "    if t == 'c':\n",
    "        status = magma.magma_cgeev('N', 'V', N, M_gpu.ctypes.data, N, \n",
    "                                   w.ctypes.data, vl.ctypes.data, N, vr.ctypes.data, N, \n",
    "                                   work.ctypes.data, lwork, rwork.ctypes.data)\n",
    "    if t == 'z':\n",
    "        status = magma.magma_zgeev('N', 'V', N, M_gpu.ctypes.data, N, \n",
    "                                   w.ctypes.data, vl.ctypes.data, N, vr.ctypes.data, N, \n",
    "                                   work.ctypes.data, lwork, rwork.ctypes.data)\n",
    "    gpu_time = time.time() - gpu_time;\n",
    "    \n",
    "    # CPU\n",
    "    cpu_time = time.time()\n",
    "    W, V = scipy.linalg.eig(M_cpu)\n",
    "    cpu_time = time.time() - cpu_time\n",
    "    \n",
    "    \n",
    "    # Compare\n",
    "    if t in ['s', 'd']:\n",
    "        W_gpu = wr + 1j*wi\n",
    "    elif t in ['c', 'z']:\n",
    "        W_gpu = w\n",
    "        \n",
    "    W_gpu.sort()\n",
    "    W.sort()\n",
    "    status = np.allclose(W[:int(N/4)], W_gpu[:int(N/4)], 1e-4)\n",
    "    if not status:\n",
    "        print(W[:10])\n",
    "        print(W_gpu[:10])\n",
    "    \n",
    "    return gpu_time, cpu_time, status\n",
    "    \n",
    "    \n",
    "    \n",
    "if __name__=='__main__':\n",
    "\n",
    "    magma.magma_init()\n",
    "\n",
    "    N=2000\n",
    "    \n",
    "    print(\"%10a %10a %10a %10a\" % ('type', \"GPU\", \"CPU\", \"Equal?\"))\n",
    "    for t in ['z', 'c', 's', 'd']:\n",
    "        gpu_time, cpu_time, status = test_cpu_gpu(N, t=t)\n",
    "        print(\"%10a %10.3g, %10.3g, %10s\" % (t, gpu_time, cpu_time, status))\n",
    "        \n",
    "    magma.magma_finalize()"
   ]
  },
  {
   "cell_type": "code",
   "execution_count": null,
   "metadata": {},
   "outputs": [],
   "source": [
    "W.sort()\n",
    "w.sort()\n",
    "np.allclose(W, w, 1e-10)"
   ]
  },
  {
   "cell_type": "code",
   "execution_count": null,
   "metadata": {},
   "outputs": [],
   "source": [
    "A = np.random.random((N,N)).astype(np.complex64)\n",
    "A.dtype"
   ]
  },
  {
   "cell_type": "code",
   "execution_count": null,
   "metadata": {},
   "outputs": [],
   "source": [
    "W"
   ]
  },
  {
   "cell_type": "code",
   "execution_count": null,
   "metadata": {},
   "outputs": [],
   "source": [
    "magma.magma_get_dgeqrf_nb"
   ]
  },
  {
   "cell_type": "code",
   "execution_count": null,
   "metadata": {},
   "outputs": [],
   "source": [
    "np.complex128"
   ]
  },
  {
   "cell_type": "code",
   "execution_count": null,
   "metadata": {},
   "outputs": [],
   "source": [
    "np.issubdtype(np.complex128, np.complexfloating)"
   ]
  },
  {
   "cell_type": "code",
   "execution_count": null,
   "metadata": {},
   "outputs": [],
   "source": [
    "typedict = {'s': np.float32, 'd': np.float64, 'c': np.complex64, 'z': np.complex128}"
   ]
  },
  {
   "cell_type": "code",
   "execution_count": null,
   "metadata": {},
   "outputs": [],
   "source": [
    "type(typedict['s'])"
   ]
  },
  {
   "cell_type": "code",
   "execution_count": null,
   "metadata": {},
   "outputs": [],
   "source": [
    "'a' in typedict.keys()"
   ]
  },
  {
   "cell_type": "code",
   "execution_count": null,
   "metadata": {},
   "outputs": [],
   "source": [
    "dtype = 'A'"
   ]
  },
  {
   "cell_type": "code",
   "execution_count": null,
   "metadata": {},
   "outputs": [],
   "source": [
    "dtype.lower()"
   ]
  },
  {
   "cell_type": "code",
   "execution_count": null,
   "metadata": {},
   "outputs": [],
   "source": [
    "magma_int_t magma_sgeev \t( \tmagma_vec_t  \tjobvl,\n",
    "\t\tmagma_vec_t  \tjobvr,\n",
    "\t\tmagma_int_t  \tn,\n",
    "\t\tfloat *  \tA,\n",
    "\t\tmagma_int_t  \tlda,\n",
    "\t\tfloat *  \twr,\n",
    "\t\tfloat *  \twi,\n",
    "\t\tfloat *  \tVL,\n",
    "\t\tmagma_int_t  \tldvl,\n",
    "\t\tfloat *  \tVR,\n",
    "\t\tmagma_int_t  \tldvr,\n",
    "\t\tfloat *  \twork,\n",
    "\t\tmagma_int_t  \tlwork,\n",
    "\t\tmagma_int_t *  \tinfo \n",
    "\t) \t"
   ]
  }
 ],
 "metadata": {
  "kernelspec": {
   "display_name": "Python 3",
   "language": "python",
   "name": "python3"
  },
  "language_info": {
   "codemirror_mode": {
    "name": "ipython",
    "version": 3
   },
   "file_extension": ".py",
   "mimetype": "text/x-python",
   "name": "python",
   "nbconvert_exporter": "python",
   "pygments_lexer": "ipython3",
   "version": "3.6.6"
  }
 },
 "nbformat": 4,
 "nbformat_minor": 2
}
